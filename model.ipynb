{
 "cells": [
  {
   "cell_type": "code",
   "execution_count": 7,
   "metadata": {},
   "outputs": [],
   "source": [
    "import os\n",
    "import numpy as np \n",
    "import pandas as pd\n",
    "import matplotlib.pyplot as plt\n",
    "from keras import backend as keras_backend\n",
    "from keras.models import Sequential, load_model\n",
    "from keras.layers import Dense, SpatialDropout2D, Activation, Conv2D, MaxPooling2D, BatchNormalization, GlobalAveragePooling2D, LeakyReLU,Flatten,Dropout\n",
    "from keras.optimizers import Adam\n",
    "from keras.utils import to_categorical\n",
    "from keras.callbacks import ModelCheckpoint \n",
    "from keras.regularizers import l2\n",
    "from sklearn.preprocessing import LabelEncoder\n",
    "from sklearn.metrics import classification_report, confusion_matrix"
   ]
  },
  {
   "cell_type": "code",
   "execution_count": 9,
   "metadata": {},
   "outputs": [],
   "source": [
    "x = np.load(\"./preprocessed/x.npy\")\n",
    "y = np.load(\"./preprocessed/y.npy\")"
   ]
  },
  {
   "cell_type": "code",
   "execution_count": 10,
   "metadata": {},
   "outputs": [
    {
     "data": {
      "text/plain": [
       "(50, 2, 1)"
      ]
     },
     "execution_count": 10,
     "metadata": {},
     "output_type": "execute_result"
    }
   ],
   "source": [
    "x[0].shape"
   ]
  },
  {
   "cell_type": "code",
   "execution_count": 4,
   "metadata": {},
   "outputs": [],
   "source": [
    "def get_model():\n",
    "  #forming model\n",
    "  model = Sequential()\n",
    "\n",
    "  #adding layers and forming the model\n",
    "  model.add(Conv2D(64,kernel_size=5,strides=1,padding=\"Same\",activation=\"relu\",input_shape=(36,5,1)))\n",
    "  model.add(MaxPooling2D(padding=\"same\"))\n",
    "\n",
    "  model.add(Conv2D(128,kernel_size=5,strides=1,padding=\"same\",activation=\"relu\"))\n",
    "  model.add(MaxPooling2D(padding=\"same\"))\n",
    "  model.add(Dropout(0.3))\n",
    "\n",
    "  model.add(Flatten())\n",
    "\n",
    "  model.add(Dense(512,activation=\"relu\"))\n",
    "  model.add(Dropout(0.4))\n",
    "\n",
    "  model.add(Dense(512,activation=\"relu\"))\n",
    "  model.add(Dropout(0.4))\n",
    "\n",
    "  model.add(Dense(10,activation=\"softmax\"))\n",
    "  \n",
    "  #compiling\n",
    "  model.compile(optimizer=\"adam\",loss=\"categorical_crossentropy\",metrics=[\"accuracy\"])\n",
    "\n",
    "  return model"
   ]
  },
  {
   "cell_type": "code",
   "execution_count": 11,
   "metadata": {},
   "outputs": [
    {
     "ename": "ValueError",
     "evalue": "zero-dimensional arrays cannot be concatenated",
     "output_type": "error",
     "traceback": [
      "\u001b[1;31m---------------------------------------------------------------------------\u001b[0m",
      "\u001b[1;31mValueError\u001b[0m                                Traceback (most recent call last)",
      "Cell \u001b[1;32mIn[11], line 10\u001b[0m\n\u001b[0;32m      7\u001b[0m model \u001b[38;5;241m=\u001b[39m get_model()\n\u001b[0;32m      9\u001b[0m x_train \u001b[38;5;241m=\u001b[39m np\u001b[38;5;241m.\u001b[39mconcatenate([x[j] \u001b[38;5;28;01mfor\u001b[39;00m j \u001b[38;5;129;01min\u001b[39;00m [k \u001b[38;5;28;01mfor\u001b[39;00m k \u001b[38;5;129;01min\u001b[39;00m \u001b[38;5;28mrange\u001b[39m(\u001b[38;5;241m10\u001b[39m) \u001b[38;5;28;01mif\u001b[39;00m k \u001b[38;5;129;01mnot\u001b[39;00m \u001b[38;5;129;01min\u001b[39;00m [i]]])\n\u001b[1;32m---> 10\u001b[0m y_train \u001b[38;5;241m=\u001b[39m \u001b[43mnp\u001b[49m\u001b[38;5;241;43m.\u001b[39;49m\u001b[43mconcatenate\u001b[49m\u001b[43m(\u001b[49m\u001b[43m[\u001b[49m\u001b[43my\u001b[49m\u001b[43m[\u001b[49m\u001b[43mj\u001b[49m\u001b[43m]\u001b[49m\u001b[43m \u001b[49m\u001b[38;5;28;43;01mfor\u001b[39;49;00m\u001b[43m \u001b[49m\u001b[43mj\u001b[49m\u001b[43m \u001b[49m\u001b[38;5;129;43;01min\u001b[39;49;00m\u001b[43m \u001b[49m\u001b[43m[\u001b[49m\u001b[43mk\u001b[49m\u001b[43m \u001b[49m\u001b[38;5;28;43;01mfor\u001b[39;49;00m\u001b[43m \u001b[49m\u001b[43mk\u001b[49m\u001b[43m \u001b[49m\u001b[38;5;129;43;01min\u001b[39;49;00m\u001b[43m \u001b[49m\u001b[38;5;28;43mrange\u001b[39;49m\u001b[43m(\u001b[49m\u001b[38;5;241;43m10\u001b[39;49m\u001b[43m)\u001b[49m\u001b[43m \u001b[49m\u001b[38;5;28;43;01mif\u001b[39;49;00m\u001b[43m \u001b[49m\u001b[43mk\u001b[49m\u001b[43m \u001b[49m\u001b[38;5;129;43;01mnot\u001b[39;49;00m\u001b[43m \u001b[49m\u001b[38;5;129;43;01min\u001b[39;49;00m\u001b[43m \u001b[49m\u001b[43m[\u001b[49m\u001b[43mi\u001b[49m\u001b[43m]\u001b[49m\u001b[43m]\u001b[49m\u001b[43m]\u001b[49m\u001b[43m)\u001b[49m\n\u001b[0;32m     12\u001b[0m x_test \u001b[38;5;241m=\u001b[39m x[i]\n\u001b[0;32m     13\u001b[0m y_test \u001b[38;5;241m=\u001b[39m y[i]\n",
      "File \u001b[1;32m<__array_function__ internals>:200\u001b[0m, in \u001b[0;36mconcatenate\u001b[1;34m(*args, **kwargs)\u001b[0m\n",
      "\u001b[1;31mValueError\u001b[0m: zero-dimensional arrays cannot be concatenated"
     ]
    }
   ],
   "source": [
    "sum_train_loss = 0\n",
    "sum_test_loss = 0\n",
    "sum_train_acc = 0\n",
    "sum_test_acc = 0\n",
    "\n",
    "for i in range(10):\n",
    "  model = get_model()\n",
    "  \n",
    "  x_train = np.concatenate([x[j] for j in [k for k in range(10) if k not in [i]]])\n",
    "  y_train = np.concatenate([y[j] for j in [k for k in range(10) if k not in [i]]])\n",
    "\n",
    "  x_test = x[i]\n",
    "  y_test = y[i]\n",
    "\n",
    "  model.fit(x_train, y_train, epochs=30, batch_size=50)\n",
    "\n",
    "  #train and test loss and scores respectively\n",
    "  train_eval = model.evaluate(x_train, y_train)\n",
    "  test_eval = model.evaluate(x_test, y_test)\n",
    "\n",
    "  print(\"Results for folder: \", i)\n",
    "  print(train_eval)\n",
    "  print(test_eval)\n",
    "\n",
    "  sum_train_loss += train_eval[0]\n",
    "  sum_test_loss += test_eval[0]\n",
    "  sum_train_acc += train_eval[1]\n",
    "  sum_test_acc += test_eval[1]"
   ]
  },
  {
   "cell_type": "code",
   "execution_count": null,
   "metadata": {},
   "outputs": [],
   "source": [
    "from sklearn.model_selection import KFold\n",
    "import os\n",
    "\n",
    "# Define the directory containing the preprocessed data\n",
    "preprocessed_dir = \"./preprocessed/\"\n",
    "\n",
    "# Define the number of folds\n",
    "n_folds = 10\n",
    "\n",
    "# Initialize cross-validation splitter\n",
    "kf = KFold(n_splits=n_folds)\n",
    "\n",
    "# Iterate over each fold\n",
    "for fold_idx, (train_index, test_index) in enumerate(kf.split(range(n_folds))):\n",
    "    print(f\"Fold {fold_idx + 1}:\")\n",
    "    \n",
    "    # Load training and testing data for the current fold\n",
    "    train_data = []\n",
    "    test_data = []\n",
    "    for idx in range(n_folds):\n",
    "        fold_dir = os.path.join(preprocessed_dir, f\"fold{idx+1}\")\n",
    "        # Load data for the current fold\n",
    "        # Assuming you have functions or methods to load data from each fold directory\n",
    "        fold_train_data, fold_test_data = load_fold_data(fold_dir)\n",
    "        if idx in train_index:\n",
    "            train_data.extend(fold_train_data)\n",
    "        elif idx in test_index:\n",
    "            test_data.extend(fold_test_data)\n",
    "    \n",
    "    # Perform any necessary preprocessing or augmentation\n",
    "    \n",
    "    # Train and evaluate the model\n",
    "    # Assuming you have functions or methods to train and evaluate the model\n",
    "    train_model(train_data, test_data)\n"
   ]
  }
 ],
 "metadata": {
  "kernelspec": {
   "display_name": "urbansounds",
   "language": "python",
   "name": "python3"
  },
  "language_info": {
   "codemirror_mode": {
    "name": "ipython",
    "version": 3
   },
   "file_extension": ".py",
   "mimetype": "text/x-python",
   "name": "python",
   "nbconvert_exporter": "python",
   "pygments_lexer": "ipython3",
   "version": "3.8.0"
  }
 },
 "nbformat": 4,
 "nbformat_minor": 2
}
